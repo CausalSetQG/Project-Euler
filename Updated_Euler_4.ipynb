{
 "cells": [
  {
   "cell_type": "markdown",
   "id": "d93d4fcf",
   "metadata": {},
   "source": [
    "**Problem 4 (Largest palindrome product)**: \n",
    "A palindromic number reads the same both ways. The largest palindrome made from the product of two 2-digit numbers is \\( 9009 = 91 \times 99 \\).\n",
    "\n",
    "Find the largest palindrome made from the product of two 3-digit numbers."
   ]
  },
  {
   "cell_type": "code",
   "execution_count": 31,
   "metadata": {},
   "outputs": [
    {
     "name": "stdout",
     "output_type": "stream",
     "text": [
      "906609\n"
     ]
    }
   ],
   "source": [
    "# Initialize the largest palindrome found to 0\n",
    "largest = 0 \n",
    "\n",
    "# Iterate over all pairs of three-digit numbers\n",
    "for a in range(100, 1000):  # Corrected the range start from 99 to 100 for 3-digit numbers\n",
    "    for b in range(100, 1000):  # Corrected the range start from 99 to 100\n",
    "        # Compute the product of the numbers\n",
    "        palindrome = a * b\n",
    "        # Convert the product to a list of its digits\n",
    "        palindromes = list(str(palindrome))\n",
    "        # Check if the list of digits is the same when reversed (i.e., it's a palindrome)\n",
    "        # And if this palindrome is greater than the largest found so far\n",
    "        if palindromes == list(reversed(palindromes)) and palindrome > largest:\n",
    "            largest = palindrome\n",
    "\n",
    "# Print the largest palindrome found\n",
    "print(largest)"
   ]
  },
  {
   "cell_type": "code",
   "execution_count": 18,
   "metadata": {},
   "outputs": [],
   "source": []
  },
  {
   "cell_type": "code",
   "execution_count": null,
   "metadata": {},
   "outputs": [],
   "source": []
  },
  {
   "cell_type": "code",
   "execution_count": null,
   "metadata": {},
   "outputs": [],
   "source": []
  },
  {
   "cell_type": "code",
   "execution_count": null,
   "metadata": {},
   "outputs": [],
   "source": []
  }
 ],
 "metadata": {
  "kernelspec": {
   "display_name": "Python 3",
   "language": "python",
   "name": "python3"
  },
  "language_info": {
   "codemirror_mode": {
    "name": "ipython",
    "version": 3
   },
   "file_extension": ".py",
   "mimetype": "text/x-python",
   "name": "python",
   "nbconvert_exporter": "python",
   "pygments_lexer": "ipython3",
   "version": "3.6.5"
  }
 },
 "nbformat": 4,
 "nbformat_minor": 2
}
