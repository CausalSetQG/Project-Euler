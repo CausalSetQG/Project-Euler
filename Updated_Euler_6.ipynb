{
 "cells": [
  {
   "cell_type": "markdown",
   "id": "fb5852c1",
   "metadata": {},
   "source": [
    "**Problem 6 (Sum square difference)**: \n",
    "The sum of the squares of the first ten natural numbers is $1^2 + 2^2 + \\ldots + 10^2 = 385$. The square of the sum of the first ten natural numbers is $(1 + 2 + \\ldots + 10)^2 = 55^2 = 3025$. Hence the difference between the sum of the squares of the first ten natural numbers and the square of the sum is $3025 - 385 = 2640$. \n",
    "\n",
    "Find the difference between the sum of the squares of the first one hundred natural numbers and the square of the sum."
   ]
  },
  {
   "cell_type": "code",
   "execution_count": 2,
   "metadata": {
    "scrolled": true
   },
   "outputs": [
    {
     "name": "stdout",
     "output_type": "stream",
     "text": [
      "25164150\n"
     ]
    }
   ],
   "source": [
    "# Initialize variables\n",
    "a = 1\n",
    "b = 0\n",
    "c = 0\n",
    "# Loop through the first 100 natural numbers\n",
    "for a in range (1, 101):\n",
    "    # Calculate the sum of squares\n",
    "    b += a ** 2\n",
    "    # Calculate the sum\n",
    "    c += a\n",
    "# Print the difference between the square of the sum and the sum of squares\n",
    "print(c ** 2 - b)"
   ]
  },
  {
   "cell_type": "code",
   "execution_count": null,
   "metadata": {},
   "outputs": [],
   "source": []
  }
 ],
 "metadata": {
  "kernelspec": {
   "display_name": "Python 3",
   "language": "python",
   "name": "python3"
  },
  "language_info": {
   "codemirror_mode": {
    "name": "ipython",
    "version": 3
   },
   "file_extension": ".py",
   "mimetype": "text/x-python",
   "name": "python",
   "nbconvert_exporter": "python",
   "pygments_lexer": "ipython3",
   "version": "3.6.5"
  }
 },
 "nbformat": 4,
 "nbformat_minor": 2
}
