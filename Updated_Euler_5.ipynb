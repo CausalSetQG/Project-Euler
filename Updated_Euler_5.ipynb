{
 "cells": [
  {
   "cell_type": "markdown",
   "id": "23c9d25a",
   "metadata": {},
   "source": [
    "**Problem 5 (Smallest multiple)**: \n",
    "2520 is the smallest number that can be divided by each of the numbers from 1 to 10 without any remainder.\n",
    "What is the smallest positive number that is evenly divisible by all of the numbers from 1 to 20?"
   ]
  },
  {
   "cell_type": "code",
   "execution_count": 54,
   "metadata": {},
   "outputs": [
    {
     "name": "stdout",
     "output_type": "stream",
     "text": [
      "232792560\n"
     ]
    }
   ],
   "source": [
    "# Define a function to compute the Least Common Multiple (LCM) of two numbers\n",
    "def LCM(a, b):\n",
    "    # Start with the value of 'a'\n",
    "    c = a\n",
    "    # Keep incrementing 'c' until it's divisible by both 'a' and 'b'\n",
    "    while c % a != 0 or c % b != 0:\n",
    "        c += 1\n",
    "    return(c)\n",
    "\n",
    "# Initialize 'a' to 1\n",
    "a = 1\n",
    "# Iterate through numbers from 1 to 20\n",
    "for b in range(1, 21):\n",
    "    # Update 'a' to be the LCM of 'a' and 'b'\n",
    "    a = LCM(a, b)\n",
    "\n",
    "# Print the final result, which is the LCM of all numbers from 1 to 20\n",
    "print(a)"
   ]
  },
  {
   "cell_type": "code",
   "execution_count": null,
   "metadata": {},
   "outputs": [],
   "source": []
  },
  {
   "cell_type": "code",
   "execution_count": null,
   "metadata": {},
   "outputs": [],
   "source": []
  },
  {
   "cell_type": "code",
   "execution_count": null,
   "metadata": {},
   "outputs": [],
   "source": []
  }
 ],
 "metadata": {
  "kernelspec": {
   "display_name": "Python 3",
   "language": "python",
   "name": "python3"
  },
  "language_info": {
   "codemirror_mode": {
    "name": "ipython",
    "version": 3
   },
   "file_extension": ".py",
   "mimetype": "text/x-python",
   "name": "python",
   "nbconvert_exporter": "python",
   "pygments_lexer": "ipython3",
   "version": "3.6.5"
  }
 },
 "nbformat": 4,
 "nbformat_minor": 2
}
