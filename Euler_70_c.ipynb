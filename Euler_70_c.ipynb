{
 "cells": [
  {
   "cell_type": "markdown",
   "id": "e2bea80f",
   "metadata": {},
   "source": [
    "**Problem 70 (Totient permutation)**: \n",
    "\n",
    "\n",
    "\n",
    "Euler's totient function, $\\phi(n)$ (sometimes called the phi function), is used to determine the number of positive numbers less than or equal to $n$ which are relatively prime to $n$. For example, as $1, 2, 4, 5, 7$, and $8$, are all less than nine and relatively prime to nine, $\\phi(9)=6$.\n",
    "\n",
    "The number $1$ is considered to be relatively prime to every positive number, so $\\phi(1)=1$.\n",
    "\n",
    "Interestingly, $\\phi(87109)=79180$, and it can be seen that $87109$ is a permutation of $79180$.\n",
    "\n",
    " Find the value of $n$, $1 < n < 10^7$, for which $\\phi(n)$ is a permutation of $n$ and the ratio $n/\\phi(n)$ produces a minimum.\n"
   ]
  },
  {
   "cell_type": "code",
   "execution_count": 10,
   "metadata": {},
   "outputs": [
    {
     "name": "stdout",
     "output_type": "stream",
     "text": [
      "Project Euler 70 Solution = 783169\n"
     ]
    }
   ],
   "source": [
    "def prime_sieve(n):\n",
    "    # Implementing the sieve algorithm to generate prime numbers up to 'n'\n",
    "    sieve = [True] * (n//2)\n",
    "    for i in range(3,int(n**0.5)+1,2):\n",
    "        if sieve[i//2]:\n",
    "            sieve[i*i//2::i] = [False] * ((n-i*i-1)//(2*i)+1)\n",
    "    return [2] + [2*i+1 for i in range(1,n//2) if sieve[i]]\n",
    "\n",
    "# Function to check if two numbers are permutations of each other\n",
    "def is_perm(a,b): return sorted(str(a))==sorted(str(b))\n",
    "\n",
    "from math import sqrt\n",
    " \n",
    "L = 10**6\n",
    "# Generate a list of prime numbers and then reduce its size\n",
    "primes = prime_sieve(int(1.2*sqrt(L)))\n",
    "del primes[:int(0.6*len(primes))]\n",
    "\n",
    "def pe70(limit):\n",
    "    min_q, min_n, i = 2, 0, 0\n",
    "    # Loop through pairs of primes\n",
    "    for p1 in primes:\n",
    "        i+=1\n",
    "        for p2 in primes[i:]:\n",
    "            if (p1+p2)%9 != 1: continue\n",
    "            n = p1 * p2\n",
    "            if n > limit: return min_n\n",
    "            # Calculate the phi value\n",
    "            phi = (p1-1) * (p2-1)\n",
    "            q = n / float(phi)\n",
    "            # Check if 'n' and phi(n) are permutations of each other and update min_q and min_n\n",
    "            if is_perm(phi, n) and min_q>q: min_q, min_n = q, n\n",
    "    return \"NFI!\"\n",
    "\n",
    "print(\"Project Euler 70 Solution =\",pe70(L))"
   ]
  },
  {
   "cell_type": "code",
   "execution_count": null,
   "metadata": {},
   "outputs": [],
   "source": []
  }
 ],
 "metadata": {
  "kernelspec": {
   "display_name": "Python 3",
   "language": "python",
   "name": "python3"
  },
  "language_info": {
   "codemirror_mode": {
    "name": "ipython",
    "version": 3
   },
   "file_extension": ".py",
   "mimetype": "text/x-python",
   "name": "python",
   "nbconvert_exporter": "python",
   "pygments_lexer": "ipython3",
   "version": "3.6.5"
  }
 },
 "nbformat": 4,
 "nbformat_minor": 2
}
