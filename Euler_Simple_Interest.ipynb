{
 "cells": [
  {
   "cell_type": "markdown",
   "id": "53e1f3a1",
   "metadata": {},
   "source": [
    "**Simple Interest Calculator**: \n",
    "Given the principal amount & p &, rate of interest & r &, and number of years & n &, this code calculates and prints the Simple Interest using the formula:\n",
    "\n",
    "$$\n",
    "SI = \n",
    "\\frac{p \\times n \\times r}{100}\n",
    "$$\n"
   ]
  },
  {
   "cell_type": "code",
   "execution_count": 2,
   "metadata": {},
   "outputs": [
    {
     "name": "stdout",
     "output_type": "stream",
     "text": [
      "Enter Value for p:1000\n",
      "Enter Value for n:1\n",
      "Enter Value for r:10\n",
      "100.0\n"
     ]
    }
   ],
   "source": [
    "# Taking input values from the user\n",
    "p = int(input('Enter Value for p:'))\n",
    "n = int(input('Enter Value for n:'))\n",
    "r = int(input('Enter Value for r:'))\n",
    "\n",
    "# Calculating the Simple Interest\n",
    "si = (p*n*r)/100\n",
    "\n",
    "# Printing the calculated Simple Interest\n",
    "print(si)\n"
   ]
  },
  {
   "cell_type": "code",
   "execution_count": null,
   "metadata": {},
   "outputs": [],
   "source": []
  }
 ],
 "metadata": {
  "kernelspec": {
   "display_name": "Python 3",
   "language": "python",
   "name": "python3"
  },
  "language_info": {
   "codemirror_mode": {
    "name": "ipython",
    "version": 3
   },
   "file_extension": ".py",
   "mimetype": "text/x-python",
   "name": "python",
   "nbconvert_exporter": "python",
   "pygments_lexer": "ipython3",
   "version": "3.6.5"
  }
 },
 "nbformat": 4,
 "nbformat_minor": 2
}
