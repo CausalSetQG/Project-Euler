{
 "cells": [
  {
   "cell_type": "markdown",
   "id": "3f0b4ffc",
   "metadata": {},
   "source": [
    "**Problem 1 (Multiples of 3 and 5)**: \n",
    "If we list all the natural numbers below 10 that are multiples of 3 or 5, we get 3, 5, 6, and 9. The sum of these multiples is 23. Find the sum of all the multiples of 3 or 5 below 1000."
   ]
  },
  {
   "cell_type": "code",
   "execution_count": 12,
   "metadata": {},
   "outputs": [
    {
     "name": "stdout",
     "output_type": "stream",
     "text": [
      "233168\n"
     ]
    }
   ],
   "source": [
    "# Define a range of numbers from 1 to 999 (below 1000)\n",
    "x = range(1,1000)\n",
    "\n",
    "# Initialize the total sum to 0\n",
    "total = 0\n",
    "\n",
    "# Iterate through each number in the range\n",
    "for i in x:\n",
    "    # If the number is divisible by 3 or 5\n",
    "    if i % 3 == 0 or i % 5 == 0:\n",
    "        # Add the number to the total sum\n",
    "        total += i\n",
    "\n",
    "# Print the final sum\n",
    "print(total)"
   ]
  },
  {
   "cell_type": "code",
   "execution_count": null,
   "metadata": {},
   "outputs": [],
   "source": []
  }
 ],
 "metadata": {
  "kernelspec": {
   "display_name": "Python 3",
   "language": "python",
   "name": "python3"
  },
  "language_info": {
   "codemirror_mode": {
    "name": "ipython",
    "version": 3
   },
   "file_extension": ".py",
   "mimetype": "text/x-python",
   "name": "python",
   "nbconvert_exporter": "python",
   "pygments_lexer": "ipython3",
   "version": "3.6.5"
  }
 },
 "nbformat": 4,
 "nbformat_minor": 2
}
