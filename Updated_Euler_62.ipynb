{
 "cells": [
  {
   "cell_type": "markdown",
   "id": "4f01e7d9",
   "metadata": {},
   "source": [
    "**Problem 62 (Cubic permutations)**: \n",
    "The cube, $41063625 = 345^3$, can be permuted to produce two other cubes: $56623104 = 384^3$ and $66430125 = 405^3$. In fact, $41063625$ is the smallest cube which has exactly three permutations of its digits which are also cube.\n",
    "\n",
    "Find the smallest cube for which exactly five permutations of its digits are cube."
   ]
  },
  {
   "cell_type": "code",
   "execution_count": 61,
   "metadata": {},
   "outputs": [
    {
     "name": "stdout",
     "output_type": "stream",
     "text": [
      "['0', '1', '2', '3', '3', '4', '5', '5', '6', '7', '8', '9']\n",
      "['1', '2', '7', '0', '3', '5', '9', '5', '4', '6', '8', '3']\n"
     ]
    }
   ],
   "source": [
    "# Create an empty list to store the cubes as lists of digits\n",
    "cubes = []\n",
    "\n",
    "# Calculate the cubes of numbers from 1 to 9999 and store them as lists of digits\n",
    "for num in range(1,10000):\n",
    "    cubes.append(list(str(num ** 3)))\n",
    "    \n",
    "# Iterate through the list of cubes\n",
    "for value in cubes:\n",
    "    # Sort the digits of the cube to create a 'signature' for that cube\n",
    "    permutation = sorted(value)\n",
    "    repeats = 0\n",
    "    # Count how many cubes have the same signature\n",
    "    for value in cubes:\n",
    "        specific = sorted(value)\n",
    "        if permutation == specific:\n",
    "            repeats += 1\n",
    "    # If we find a cube with exactly 5 such permutations, store its signature and exit the loop\n",
    "    if repeats == 5:\n",
    "        best = permutation\n",
    "        break\n",
    "\n",
    "# Find and print the smallest cube with the stored signature\n",
    "for value in cubes:\n",
    "    if sorted(value) == best:\n",
    "        print(value)\n",
    "        break"
   ]
  }
 ],
 "metadata": {
  "kernelspec": {
   "display_name": "Python 3",
   "language": "python",
   "name": "python3"
  },
  "language_info": {
   "codemirror_mode": {
    "name": "ipython",
    "version": 3
   },
   "file_extension": ".py",
   "mimetype": "text/x-python",
   "name": "python",
   "nbconvert_exporter": "python",
   "pygments_lexer": "ipython3",
   "version": "3.6.5"
  }
 },
 "nbformat": 4,
 "nbformat_minor": 2
}
