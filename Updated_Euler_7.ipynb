{
 "cells": [
  {
   "cell_type": "markdown",
   "id": "80f02c08",
   "metadata": {},
   "source": [
    "**Problem 7 (10001st prime)**: \n",
    "By listing the first six prime numbers: 2, 3, 5, 7, 11, and 13, we can see that the 6th prime is 13. What is the 10,001st prime number?"
   ]
  },
  {
   "cell_type": "code",
   "execution_count": 74,
   "metadata": {},
   "outputs": [
    {
     "name": "stdout",
     "output_type": "stream",
     "text": [
      "104743\n"
     ]
    }
   ],
   "source": [
    "# Initialize a list with the first prime number\n",
    "x = [2]\n",
    "\n",
    "# Define a function to check if 'num' is not divisible by 'factor' (i.e., it might be prime)\n",
    "def prime(num, factor):\n",
    "    return (num % factor != 0)\n",
    "\n",
    "# Start checking numbers from 2\n",
    "num = 2\n",
    "\n",
    "# Continue until we find the 10,001st prime\n",
    "while len(x) < 10001:\n",
    "    # Assume the number is prime until proven otherwise\n",
    "    isPrime = True\n",
    "    # Check divisibility by all known primes\n",
    "    for factor in x:\n",
    "        if not prime(num, factor):\n",
    "            # If divisible by any known prime, it's not a prime\n",
    "            isPrime = False\n",
    "            break\n",
    "            \n",
    "    # If the number is prime, add it to the list\n",
    "    if isPrime:\n",
    "        x.append(num)\n",
    "\n",
    "    # Move on to the next number\n",
    "    num += 1\n",
    "        \n",
    "# Print the 10,001st prime\n",
    "print(x[len(x)-1])"
   ]
  },
  {
   "cell_type": "code",
   "execution_count": null,
   "metadata": {},
   "outputs": [],
   "source": []
  },
  {
   "cell_type": "code",
   "execution_count": null,
   "metadata": {},
   "outputs": [],
   "source": []
  },
  {
   "cell_type": "code",
   "execution_count": null,
   "metadata": {},
   "outputs": [],
   "source": []
  },
  {
   "cell_type": "code",
   "execution_count": null,
   "metadata": {},
   "outputs": [],
   "source": []
  }
 ],
 "metadata": {
  "kernelspec": {
   "display_name": "Python 3",
   "language": "python",
   "name": "python3"
  },
  "language_info": {
   "codemirror_mode": {
    "name": "ipython",
    "version": 3
   },
   "file_extension": ".py",
   "mimetype": "text/x-python",
   "name": "python",
   "nbconvert_exporter": "python",
   "pygments_lexer": "ipython3",
   "version": "3.6.5"
  }
 },
 "nbformat": 4,
 "nbformat_minor": 2
}
