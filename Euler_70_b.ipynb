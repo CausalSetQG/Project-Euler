{
 "cells": [
  {
   "cell_type": "markdown",
   "id": "e2bea80f",
   "metadata": {},
   "source": [
    "**Problem 70 (Totient permutation)**: \n",
    "\n",
    "\n",
    "\n",
    "Euler's totient function, $\\phi(n)$ (sometimes called the phi function), is used to determine the number of positive numbers less than or equal to $n$ which are relatively prime to $n$. For example, as $1, 2, 4, 5, 7$, and $8$, are all less than nine and relatively prime to nine, $\\phi(9)=6$.\n",
    "\n",
    "The number $1$ is considered to be relatively prime to every positive number, so $\\phi(1)=1$.\n",
    "\n",
    "Interestingly, $\\phi(87109)=79180$, and it can be seen that $87109$ is a permutation of $79180$.\n",
    "\n",
    " Find the value of $n$, $1 < n < 10^7$, for which $\\phi(n)$ is a permutation of $n$ and the ratio $n/\\phi(n)$ produces a minimum."
   ]
  },
  {
   "cell_type": "code",
   "execution_count": 55,
   "metadata": {},
   "outputs": [
    {
     "ename": "KeyboardInterrupt",
     "evalue": "",
     "output_type": "error",
     "traceback": [
      "\u001b[1;31m---------------------------------------------------------------------------\u001b[0m",
      "\u001b[1;31mKeyboardInterrupt\u001b[0m                         Traceback (most recent call last)",
      "\u001b[1;32m<ipython-input-55-a6809d1965bf>\u001b[0m in \u001b[0;36m<module>\u001b[1;34m()\u001b[0m\n\u001b[0;32m     19\u001b[0m             \u001b[1;32mbreak\u001b[0m\u001b[1;33m\u001b[0m\u001b[0m\n\u001b[0;32m     20\u001b[0m         \u001b[1;32melse\u001b[0m\u001b[1;33m:\u001b[0m\u001b[1;33m\u001b[0m\u001b[0m\n\u001b[1;32m---> 21\u001b[1;33m             \u001b[1;32mif\u001b[0m \u001b[0mremainder\u001b[0m \u001b[1;33m%\u001b[0m \u001b[0mp\u001b[0m \u001b[1;33m==\u001b[0m \u001b[1;36m0\u001b[0m\u001b[1;33m:\u001b[0m\u001b[1;33m\u001b[0m\u001b[0m\n\u001b[0m\u001b[0;32m     22\u001b[0m                 \u001b[0mppf\u001b[0m\u001b[1;33m.\u001b[0m\u001b[0mappend\u001b[0m\u001b[1;33m(\u001b[0m\u001b[0mp\u001b[0m\u001b[1;33m)\u001b[0m\u001b[1;33m\u001b[0m\u001b[0m\n\u001b[0;32m     23\u001b[0m                 \u001b[1;32mwhile\u001b[0m \u001b[0mremainder\u001b[0m \u001b[1;33m%\u001b[0m \u001b[0mp\u001b[0m \u001b[1;33m==\u001b[0m \u001b[1;36m0\u001b[0m\u001b[1;33m:\u001b[0m\u001b[1;33m\u001b[0m\u001b[0m\n",
      "\u001b[1;31mKeyboardInterrupt\u001b[0m: "
     ]
    }
   ],
   "source": [
    "n = 10000000\n",
    "import numpy\n",
    "\n",
    "# Define the Sieve of Eratosthenes algorithm to generate prime numbers up to 'n'\n",
    "def sieve(n):\n",
    "    flags = numpy.ones(n, dtype=bool)\n",
    "    flags[0] = flags[1] = False\n",
    "    for i in range(2, n):\n",
    "        if flags[i]:\n",
    "            flags[i*i::i] = False\n",
    "    return numpy.flatnonzero(flags)\n",
    "\n",
    "primes = sieve(n)\n",
    "\n",
    "# Create a list to store the prime factors for each number from 2 to 'n'\n",
    "sep = []\n",
    "for n in range (2, n + 1):\n",
    "    remainder = n\n",
    "    ppf = []\n",
    "    # Iterate through the primes to find the prime factors of 'n'\n",
    "    for p in primes:\n",
    "        if p > remainder:\n",
    "            break\n",
    "        else:\n",
    "            if remainder % p == 0:\n",
    "                ppf.append(p)\n",
    "                while remainder % p == 0:\n",
    "                    remainder /= p\n",
    "    sep.append(ppf)\n",
    "\n",
    "# Calculate the phi values and n/phi(n) ratios for each number\n",
    "index = 2\n",
    "phis = []\n",
    "phiratios = []\n",
    "for ppfs in sep:\n",
    "    partialphi = 1\n",
    "    for nums in ppfs:\n",
    "        partialphi *= (1-(1/nums))\n",
    "    phiratios.append(str(index/ (partialphi * index)))\n",
    "    phis.append([(index/ (partialphi * index)), list(str(int(partialphi * index))), list(str(index))])\n",
    "    index += 1\n",
    "\n",
    "# Check for numbers where 'n' and phi(n) are permutations of each other\n",
    "permutative = []\n",
    "for value in phis:\n",
    "    if sorted(value[1]) == sorted(value[2]):\n",
    "        permutative.append(value[0])\n",
    "\n",
    "# Find the smallest n/phi(n) ratio among the numbers with the permutation property\n",
    "smallest = 10\n",
    "for phiratio in permutative:\n",
    "    if phiratio < smallest:\n",
    "        smallest = phiratio\n",
    "print(smallest)\n",
    "print(phiratios.index(str(smallest))+2)"
   ]
  },
  {
   "cell_type": "code",
   "execution_count": null,
   "metadata": {},
   "outputs": [],
   "source": []
  }
 ],
 "metadata": {
  "kernelspec": {
   "display_name": "Python 3",
   "language": "python",
   "name": "python3"
  },
  "language_info": {
   "codemirror_mode": {
    "name": "ipython",
    "version": 3
   },
   "file_extension": ".py",
   "mimetype": "text/x-python",
   "name": "python",
   "nbconvert_exporter": "python",
   "pygments_lexer": "ipython3",
   "version": "3.6.5"
  }
 },
 "nbformat": 4,
 "nbformat_minor": 2
}
